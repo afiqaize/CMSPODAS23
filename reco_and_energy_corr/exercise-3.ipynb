{
 "cells": [
  {
   "cell_type": "code",
   "execution_count": 1,
   "metadata": {},
   "outputs": [
    {
     "name": "stdout",
     "output_type": "stream",
     "text": [
      "filename = /eos/user/y/yian/Ntuples_CMSPODAS/0000/DYJetsToLL_M-50_TuneCP5_13TeV-madgraphMLM-pythia8_ntuples_102X_upgrade2018_realistic_v15-v1_GGNtupV2_109.root\n",
      "filename = /eos/user/y/yian/Ntuples_CMSPODAS/0000/DYJetsToLL_M-50_TuneCP5_13TeV-madgraphMLM-pythia8_ntuples_102X_upgrade2018_realistic_v15-v1_GGNtupV2_118.root\n",
      "filename = /eos/user/y/yian/Ntuples_CMSPODAS/0000/DYJetsToLL_M-50_TuneCP5_13TeV-madgraphMLM-pythia8_ntuples_102X_upgrade2018_realistic_v15-v1_GGNtupV2_127.root\n",
      "filename = /eos/user/y/yian/Ntuples_CMSPODAS/0000/DYJetsToLL_M-50_TuneCP5_13TeV-madgraphMLM-pythia8_ntuples_102X_upgrade2018_realistic_v15-v1_GGNtupV2_136.root\n",
      "filename = /eos/user/y/yian/Ntuples_CMSPODAS/0000/DYJetsToLL_M-50_TuneCP5_13TeV-madgraphMLM-pythia8_ntuples_102X_upgrade2018_realistic_v15-v1_GGNtupV2_145.root\n",
      "filename = /eos/user/y/yian/Ntuples_CMSPODAS/0000/DYJetsToLL_M-50_TuneCP5_13TeV-madgraphMLM-pythia8_ntuples_102X_upgrade2018_realistic_v15-v1_GGNtupV2_154.root\n",
      "filename = /eos/user/y/yian/Ntuples_CMSPODAS/0000/DYJetsToLL_M-50_TuneCP5_13TeV-madgraphMLM-pythia8_ntuples_102X_upgrade2018_realistic_v15-v1_GGNtupV2_163.root\n",
      "filename = /eos/user/y/yian/Ntuples_CMSPODAS/0000/DYJetsToLL_M-50_TuneCP5_13TeV-madgraphMLM-pythia8_ntuples_102X_upgrade2018_realistic_v15-v1_GGNtupV2_173.root\n",
      "filename = /eos/user/y/yian/Ntuples_CMSPODAS/0000/DYJetsToLL_M-50_TuneCP5_13TeV-madgraphMLM-pythia8_ntuples_102X_upgrade2018_realistic_v15-v1_GGNtupV2_182.root\n",
      "filename = /eos/user/y/yian/Ntuples_CMSPODAS/0000/DYJetsToLL_M-50_TuneCP5_13TeV-madgraphMLM-pythia8_ntuples_102X_upgrade2018_realistic_v15-v1_GGNtupV2_191.root\n",
      "filename = /eos/user/y/yian/Ntuples_CMSPODAS/0000/DYJetsToLL_M-50_TuneCP5_13TeV-madgraphMLM-pythia8_ntuples_102X_upgrade2018_realistic_v15-v1_GGNtupV2_200.root\n",
      "filename = /eos/user/y/yian/Ntuples_CMSPODAS/0000/DYJetsToLL_M-50_TuneCP5_13TeV-madgraphMLM-pythia8_ntuples_102X_upgrade2018_realistic_v15-v1_GGNtupV2_29.root\n",
      "filename = /eos/user/y/yian/Ntuples_CMSPODAS/0000/DYJetsToLL_M-50_TuneCP5_13TeV-madgraphMLM-pythia8_ntuples_102X_upgrade2018_realistic_v15-v1_GGNtupV2_38.root\n",
      "filename = /eos/user/y/yian/Ntuples_CMSPODAS/0000/DYJetsToLL_M-50_TuneCP5_13TeV-madgraphMLM-pythia8_ntuples_102X_upgrade2018_realistic_v15-v1_GGNtupV2_47.root\n",
      "filename = /eos/user/y/yian/Ntuples_CMSPODAS/0000/DYJetsToLL_M-50_TuneCP5_13TeV-madgraphMLM-pythia8_ntuples_102X_upgrade2018_realistic_v15-v1_GGNtupV2_56.root\n",
      "filename = /eos/user/y/yian/Ntuples_CMSPODAS/0000/DYJetsToLL_M-50_TuneCP5_13TeV-madgraphMLM-pythia8_ntuples_102X_upgrade2018_realistic_v15-v1_GGNtupV2_65.root\n",
      "filename = /eos/user/y/yian/Ntuples_CMSPODAS/0000/DYJetsToLL_M-50_TuneCP5_13TeV-madgraphMLM-pythia8_ntuples_102X_upgrade2018_realistic_v15-v1_GGNtupV2_74.root\n",
      "filename = /eos/user/y/yian/Ntuples_CMSPODAS/0000/DYJetsToLL_M-50_TuneCP5_13TeV-madgraphMLM-pythia8_ntuples_102X_upgrade2018_realistic_v15-v1_GGNtupV2_83.root\n",
      "filename = /eos/user/y/yian/Ntuples_CMSPODAS/0000/DYJetsToLL_M-50_TuneCP5_13TeV-madgraphMLM-pythia8_ntuples_102X_upgrade2018_realistic_v15-v1_GGNtupV2_92.root\n",
      "nr files: 19\n"
     ]
    }
   ],
   "source": [
    "from Tools.wrapper_egm_tools import *\n",
    "tree = makeChain(cname = \"ggNtuplizer/EventTree\", flist = \"/eos/user/y/yian/Ntuples_CMSPODAS/0000/*.root\", njob = 10)\n",
    "h_eraw = makeHist(tree = tree, nbin = 95, xmin = 10, xmax = 200, variable = \"eleSCRawEn\", cut = \"eleGenEn > 10\")"
   ]
  },
  {
   "cell_type": "code",
   "execution_count": 2,
   "metadata": {},
   "outputs": [
    {
     "name": "stdout",
     "output_type": "stream",
     "text": [
      "Welcome to JupyROOT 6.26/04\n"
     ]
    },
    {
     "data": {
      "image/png": "[encoded data removed]",
      "text/plain": [
       "<IPython.core.display.Image object>"
      ]
     },
     "metadata": {},
     "output_type": "display_data"
    },
    {
     "name": "stdout",
     "output_type": "stream",
     "text": [
      "\n",
      "\u001b[1mRooFit v3.60 -- Developed by Wouter Verkerke and David Kirkby\u001b[0m \n",
      "                Copyright (C) 2000-2013 NIKHEF, University of California & Stanford University\n",
      "                All rights reserved, please read http://roofit.sourceforge.net/license.txt\n",
      "\n"
     ]
    }
   ],
   "source": [
    "from ROOT import TCanvas\n",
    "canvas = TCanvas()\n",
    "h_eraw.Draw()\n",
    "canvas.Draw() # Necessary to make the graphics show!"
   ]
  },
  {
   "cell_type": "code",
   "execution_count": null,
   "metadata": {},
   "outputs": [],
   "source": []
  }
 ],
 "metadata": {
  "kernelspec": {
   "display_name": "Python 3",
   "language": "python",
   "name": "python3"
  },
  "language_info": {
   "codemirror_mode": {
    "name": "ipython",
    "version": 3
   },
   "file_extension": ".py",
   "mimetype": "text/x-python",
   "name": "python",
   "nbconvert_exporter": "python",
   "pygments_lexer": "ipython3",
   "version": "3.9.12"
  }
 },
 "nbformat": 4,
 "nbformat_minor": 1
}
